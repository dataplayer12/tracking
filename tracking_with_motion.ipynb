{
 "cells": [
  {
   "cell_type": "code",
   "execution_count": 1,
   "metadata": {
    "collapsed": true
   },
   "outputs": [],
   "source": [
    "import numpy as np\n",
    "import os, sys\n",
    "import cv2\n",
    "import matplotlib.pyplot as plt\n",
    "%matplotlib inline"
   ]
  },
  {
   "cell_type": "code",
   "execution_count": 2,
   "metadata": {
    "collapsed": true
   },
   "outputs": [],
   "source": [
    "class MovingObj:\n",
    "    def __init__(self,center):\n",
    "        self.previous_centers=[center]\n",
    "        self.kalman=self.prepareKF()\n",
    "        self.updateKF()\n",
    "        self.num_frames_detected=1\n",
    "        self.num_not_found=0\n",
    "        self.is_being_tracked=False\n",
    "        \n",
    "    def prepareKF(self):\n",
    "        kalman=cv2.KalmanFilter(4,2)\n",
    "        kalman.measurementMatrix=np.array([[1,0,0,0],[0,1,0,0]],np.float32)\n",
    "        kalman.transitionMatrix = np.array([[1,0,1,0],[0,1,0,1],[0,0,1,0],[0,0,0,1]],np.float32)\n",
    "        kalman.processNoiseCov=0.03*np.eye(4).astype(np.float32)\n",
    "        kalman.measurementNoiseCov = 0.03*np.eye(2).astype(np.float32)\n",
    "        return kalman\n",
    "        \n",
    "    def updateKF(self):\n",
    "        self.kalman.correct(np.array(self.previous_centers[-1],dtype=np.float32))\n",
    "        \n",
    "    def lastcenter(self):\n",
    "        return self.previous_centers[-1]\n",
    "\n",
    "    def predictnow(self):\n",
    "        if self.num_frames_detected<10 or not self.is_being_tracked:\n",
    "            return list(self.lastcenter())\n",
    "        if self.is_being_tracked:\n",
    "            return self.kalman.predict()[:2][:,0]\n",
    "\n",
    "\n",
    "    def addcenter(self,cen):\n",
    "        self.previous_centers.append((cen[0],cen[1]))\n",
    "        self.updateKF()\n",
    "        self.num_frames_detected+=1\n",
    "        self.num_not_found=0\n",
    "        if self.num_frames_detected>=3:\n",
    "            self.is_being_tracked=True\n",
    "    \n",
    "    def drop(self):\n",
    "        self.num_not_found+=1\n",
    "        if self.num_not_found>30:\n",
    "            self.is_being_tracked=False\n",
    "        \n",
    "    def track_points(self):\n",
    "        if self.is_being_tracked:\n",
    "            return (self.previous_centers[-2],self.previous_centers[-1])"
   ]
  },
  {
   "cell_type": "code",
   "execution_count": 3,
   "metadata": {
    "collapsed": true
   },
   "outputs": [],
   "source": [
    "def computepairwise(matrix1,matrix2):\n",
    "    assert len(matrix1.shape)==2, 'First argument is not 2D'\n",
    "    assert len(matrix2.shape)==2, 'Second argument is not 2D'\n",
    "    assert matrix1.shape[1]==matrix2.shape[1], 'Matrices have different number of features'\n",
    "    \n",
    "    result=np.zeros((matrix1.shape[0],matrix2.shape[0]),dtype=np.float32)\n",
    "    for feature in range(matrix1.shape[1]):\n",
    "        diff=(np.repeat(matrix1[:,feature][:,None],matrix2.shape[0],axis=1)-matrix2[:,feature][:,None].T) #,axis=1\n",
    "        #print(diff.shape,matrix1.shape[0],matrix2.shape[0])\n",
    "        assert diff.shape==(matrix1.shape[0],matrix2.shape[0]), 'there is a bug in your program'\n",
    "        result += diff**2\n",
    "    return np.sqrt(result)"
   ]
  },
  {
   "cell_type": "code",
   "execution_count": 4,
   "metadata": {
    "collapsed": true
   },
   "outputs": [],
   "source": [
    "def matchcentertoobj(centers,tracked_objs):\n",
    "    current_predictions=np.array([list(obj.lastcenter()) for obj in tracked_objs]) #list(obj.lastcenter())\n",
    "    #current_predictions=current_predictions[:,:,0] #obj.predictnow()\n",
    "    #print(current_predictions.shape)\n",
    "    #Nx2 array\n",
    "    #centers is Mx2 array\n",
    "    #compute pairwise distances (NxM)\n",
    "    #if M<N be careful\n",
    "    #if M >= N, possibly match existing centers to new centers if distance is below a threshold, \n",
    "    #maintain a list of used indices\n",
    "    #match existing centers to that new center with which it has minimum distance\n",
    "    centers=np.array(centers)\n",
    "    #print(current_predictions.shape)\n",
    "    distance=computepairwise(current_predictions,centers) #NxM\n",
    "    #print(distance)\n",
    "    possible_matches=np.argmin(distance,axis=1)\n",
    "    used_indices=[]\n",
    "    \n",
    "    for idx in range(len(possible_matches)):\n",
    "        #if match occurs more than once, choose the minimum distance\n",
    "        candidates=[]\n",
    "        candidates.append(distance[idx,possible_matches[idx]])\n",
    "        for idx2 in range(len(possible_matches[idx+1:])):\n",
    "            if possible_matches[idx]==possible_matches[idx+1+idx2]:\n",
    "                candidates.append(distance[idx+1+idx2,possible_matches[idx]])\n",
    "        \n",
    "        if len(candidates)>1:\n",
    "            pass\n",
    "            #print('Duplicate matches found') #this happens VERY often\n",
    "        if np.argmin(candidates) != 0:\n",
    "            #this means another point has lower distance than this point, so this point has no matches\n",
    "            tracked_objs[idx].drop()\n",
    "        else:\n",
    "            #print(candidates)\n",
    "            if candidates[0]<50:               \n",
    "                if possible_matches[idx] not in used_indices:\n",
    "                    tracked_objs[idx].addcenter(centers[possible_matches[idx]])\n",
    "                    used_indices.append(possible_matches[idx])\n",
    "            else:\n",
    "                tracked_objs[idx].drop()"
   ]
  },
  {
   "cell_type": "code",
   "execution_count": 5,
   "metadata": {
    "collapsed": true
   },
   "outputs": [],
   "source": [
    "def drawtrajectory(previous,this_frame):\n",
    "    #previous: a dark frmae like matrix with only the trajectories drawn\n",
    "    #this_frame: frame on which to draw trajectory\n",
    "    for obj in tracked_objs:\n",
    "        if obj.track_points() is not None:\n",
    "            #print(obj.track_points())\n",
    "            previous=cv2.line(previous,obj.track_points()[0],obj.track_points()[1],255,1)\n",
    "    \n",
    "    #this_frame[:,:,:] = this_frame[:,:,:]*((previous[:,:])[:,:,np.newaxis])\n",
    "    data32=this_frame[:,:,1].astype(np.int32)\n",
    "    np.clip(data32+previous,0,255,out=data32)\n",
    "    this_frame[:,:,1]=data32.astype(np.uint8)\n",
    "    return previous,this_frame"
   ]
  },
  {
   "cell_type": "code",
   "execution_count": 6,
   "metadata": {
    "collapsed": true
   },
   "outputs": [],
   "source": [
    "def writedistances(frame,tracked_objs,etime):\n",
    "    finddist= lambda tp1,tp2: np.sqrt((tp1[0]-tp2[0])**2+(tp1[1]-tp2[1])**2)\n",
    "    for obj in tracked_objs:\n",
    "        if obj.num_frames_detected>5:\n",
    "            center= lambda : tuple((np.array(obj.previous_centers[0])+np.array(obj.previous_centers[-1]))//2)\n",
    "            #dist=[finddist(obj.previous_centers[idx-1],obj.previous_centers[idx]) for idx in range(1,obj.num_frames_detected)]\n",
    "            #dist=np.sum(dist)\n",
    "            #text_s='S={:.1f} um'.format(dist*0.64)\n",
    "            disp=finddist(obj.previous_centers[0],obj.previous_centers[-1])\n",
    "            text_d='D={:.1f} um'.format(disp*0.64)\n",
    "            text_v='v={:.1f} um/s'.format(disp*0.64/etime)\n",
    "            #cv2.putText(frame,text_s, obj.lastcenter(),cv2.FONT_HERSHEY_SIMPLEX,0.7,(255,255,255))\n",
    "            frame=cv2.line(frame,obj.previous_centers[0],obj.previous_centers[-1],(255,0,255),1)\n",
    "            cv2.putText(frame,text_d, center() ,cv2.FONT_HERSHEY_SIMPLEX,0.7,(255,255,255))\n",
    "            cv2.putText(frame,text_v, (center()[0],center()[1]+25) ,cv2.FONT_HERSHEY_SIMPLEX,0.7,(255,255,255))\n",
    "    return frame"
   ]
  },
  {
   "cell_type": "code",
   "execution_count": 26,
   "metadata": {
    "collapsed": true
   },
   "outputs": [],
   "source": [
    "freq = 2\n",
    "video=cv2.VideoCapture(str(freq)+'_hertz (Converted).mov')\n",
    "\n",
    "filename='motion_'+str(freq)+'.m4v'\n",
    "\n",
    "if os.path.exists(filename):\n",
    "    os.remove(filename)\n",
    "    \n",
    "fps=video.get(cv2.CAP_PROP_FPS)\n",
    "size=(int(video.get(cv2.CAP_PROP_FRAME_WIDTH)),int(video.get(cv2.CAP_PROP_FRAME_HEIGHT)))\n",
    "videoWriter=cv2.VideoWriter(filename,cv2.VideoWriter_fourcc('I','4','2','0'),fps,size)"
   ]
  },
  {
   "cell_type": "code",
   "execution_count": 27,
   "metadata": {
    "collapsed": true
   },
   "outputs": [],
   "source": [
    "num_frames_in_history=5"
   ]
  },
  {
   "cell_type": "code",
   "execution_count": 28,
   "metadata": {},
   "outputs": [
    {
     "name": "stdout",
     "output_type": "stream",
     "text": [
      "Done\n"
     ]
    }
   ],
   "source": [
    "fgbg=cv2.createBackgroundSubtractorMOG2(history=50, varThreshold=16, detectShadows=False)\n",
    "kernel=cv2.getStructuringElement(cv2.MORPH_ELLIPSE,(3,3))\n",
    "tracked_objs=[]\n",
    "\n",
    "possible_new_objs=[]\n",
    "\n",
    "prev=np.zeros((size[1],size[0]),dtype=np.uint8)\n",
    "\n",
    "ret,frame=video.read()\n",
    "count=0\n",
    "\n",
    "while (ret):\n",
    "    count+=ret\n",
    "    last_frame=frame[:]\n",
    "    current_centers=[]\n",
    "    fgmask=fgbg.apply(frame,learningRate=0.1)\n",
    "    fgmask=cv2.morphologyEx(fgmask,cv2.MORPH_OPEN,kernel,iterations=2)\n",
    "    fgmask=cv2.dilate(fgmask,kernel,iterations=2)\n",
    "    fgmask_copy=fgmask[:]\n",
    "    _, contours, _ = cv2.findContours(fgmask_copy,cv2.RETR_EXTERNAL,cv2.CHAIN_APPROX_SIMPLE)\n",
    "\n",
    "    for c in contours:\n",
    "        #find bounding box co-ordinates\n",
    "        (x,y),radius=cv2.minEnclosingCircle(c)\n",
    "        #cast to integers\n",
    "        center=(int(x),int(y))\n",
    "        radius=int(radius)\n",
    "        #draw the circle\n",
    "        \n",
    "        if count<=num_frames_in_history:\n",
    "            tracked_objs.append(MovingObj(center))\n",
    "        else:\n",
    "            frame=cv2.circle(frame,center,radius,(0,255,255),2)\n",
    "            current_centers.append(center)\n",
    "        \n",
    "    if count>num_frames_in_history:\n",
    "        matchcentertoobj(current_centers,tracked_objs)\n",
    "        prev,frame = drawtrajectory(prev,frame)\n",
    "    videoWriter.write(frame)\n",
    "    ret,frame=video.read()\n",
    "    \n",
    "#frame=writedistances(last_frame,tracked_objs,float(count)/fps)\n",
    "#videoWriter.write(frame)\n",
    "videoWriter.release()\n",
    "print('Done')"
   ]
  },
  {
   "cell_type": "code",
   "execution_count": null,
   "metadata": {
    "collapsed": true
   },
   "outputs": [],
   "source": [
    "# struct moving_object\n",
    "# centers in last num_frames_in_history frames\n",
    "# is being tracked: boolean\n",
    "# kalman filter to predict motion if object is being tracked\n",
    "\n",
    "# maintain a list of all centers in previous num_frames_in_history frames\n",
    "# for each object being tracked, predict the position in this frame\n",
    "# for each center in this frame, check if the min distance to any predicted position is less than a threshold\n",
    "# if true insert this center to the list of obj's centers in last few frames. update kalman filter\n",
    "# if false, add to the list of objs not being tracked"
   ]
  },
  {
   "cell_type": "code",
   "execution_count": null,
   "metadata": {},
   "outputs": [],
   "source": [
    "#[o.num_frames_detected for o in tracked_objs]"
   ]
  },
  {
   "cell_type": "code",
   "execution_count": 12,
   "metadata": {
    "collapsed": true
   },
   "outputs": [],
   "source": [
    "def make_histogram(objs,prop='num_frames_detected'):\n",
    "    array=np.array([getattr(o,prop) for o in objs if getattr(o,prop)>=5])\n",
    "    hist,edges=np.histogram(array,bins=20)\n",
    "    plt.plot(edges[:-1],hist)\n",
    "    plt.show()"
   ]
  },
  {
   "cell_type": "code",
   "execution_count": 13,
   "metadata": {},
   "outputs": [
    {
     "data": {
      "image/png": "[encoded data removed]",
      "text/plain": [
       "<matplotlib.figure.Figure at 0x10c9428d0>"
      ]
     },
     "metadata": {},
     "output_type": "display_data"
    }
   ],
   "source": [
    "make_histogram(tracked_objs)"
   ]
  },
  {
   "cell_type": "code",
   "execution_count": null,
   "metadata": {
    "collapsed": true
   },
   "outputs": [],
   "source": [
    "tracker = cv2.TrackerMIL_create()\n",
    "\n",
    "# Read video\n",
    "video = cv2.VideoCapture(\"short copy (Converted).mov\")\n",
    "\n",
    "# Exit if video not opened.\n",
    "if not video.isOpened():\n",
    "    print \"Could not open video\"\n",
    "    sys.exit()\n",
    "\n",
    "# Read first frame.\n",
    "ok, frame = video.read()\n",
    "if not ok:\n",
    "    print 'Cannot read video file'\n",
    "    sys.exit()\n",
    "\n",
    "# Define an initial bounding box\n",
    "bbox = (287, 23, 86, 320)\n",
    "\n",
    "# Uncomment the line below to select a different bounding box\n",
    "bbox = cv2.selectROI(frame, False)\n",
    "\n",
    "# Initialize tracker with first frame and bounding box\n",
    "ok = tracker.init(frame, bbox)\n",
    "\n",
    "while True:\n",
    "    # Read a new frame\n",
    "    ok, frame = video.read()\n",
    "    if not ok:\n",
    "        break\n",
    "\n",
    "    # Update tracker\n",
    "    ok, bbox = tracker.update(frame)\n",
    "\n",
    "    # Draw bounding box\n",
    "    if ok:\n",
    "        p1 = (int(bbox[0]), int(bbox[1]))\n",
    "        p2 = (int(bbox[0] + bbox[2]), int(bbox[1] + bbox[3]))\n",
    "        cv2.rectangle(frame, p1, p2, (0,0,255))\n",
    "\n",
    "    # Display result\n",
    "    #cv2.imshow(\"Tracking\", frame)\n",
    "    videoWriter.write(frame)\n",
    "\n",
    "    # Exit if ESC pressed\n",
    "    k = cv2.waitKey(1) & 0xff\n",
    "    if k == 27 : break\n",
    "\n",
    "videoWriter.release()"
   ]
  },
  {
   "cell_type": "code",
   "execution_count": null,
   "metadata": {},
   "outputs": [],
   "source": [
    "ret,frame=video.read()\n",
    "gray=cv2.cvtColor(frame,cv2.COLOR_BGR2GRAY)\n",
    "ret,thresh=cv2.threshold(gray,0,255,cv2.THRESH_BINARY+cv2.THRESH_OTSU)\n",
    "\n",
    "for c in contours:\n",
    "    #find bounding box co-ordinates\n",
    "    (x,y),radius=cv2.minEnclosingCircle(c)\n",
    "    #cast to integers\n",
    "    center=(int(x),int(y))\n",
    "    radius=int(radius)\n",
    "    #draw the circle\n",
    "    img=cv2.circle(frame,center,radius,(0,255,0),2)\n",
    "    \n",
    "    #find minimum area\n",
    "    rect=cv2.minAreaRect(c)\n",
    "    #calculate co-ordinates of minimum area rectangle\n",
    "    box=cv2.boxPoints(rect)\n",
    "    #normalize co-ordinates to integers\n",
    "    box=np.int0(box)\n",
    "    #cv2.drawContours(frame,[box],-1,(0,0,255),3)\n",
    "\n",
    "#cv2.drawContours(frame,contours,-1,(255,0,0),1)\n",
    "plt.imshow(frame)"
   ]
  },
  {
   "cell_type": "code",
   "execution_count": null,
   "metadata": {},
   "outputs": [],
   "source": []
  },
  {
   "cell_type": "code",
   "execution_count": null,
   "metadata": {
    "collapsed": true
   },
   "outputs": [],
   "source": []
  }
 ],
 "metadata": {
  "kernelspec": {
   "display_name": "Python 2",
   "language": "python",
   "name": "python2"
  },
  "language_info": {
   "codemirror_mode": {
    "name": "ipython",
    "version": 2
   },
   "file_extension": ".py",
   "mimetype": "text/x-python",
   "name": "python",
   "nbconvert_exporter": "python",
   "pygments_lexer": "ipython2",
   "version": "2.7.13"
  }
 },
 "nbformat": 4,
 "nbformat_minor": 2
}
