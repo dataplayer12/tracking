{
 "cells": [
  {
   "cell_type": "code",
   "execution_count": null,
   "metadata": {},
   "outputs": [],
   "source": [
    "import numpy as np\n",
    "import os, sys\n",
    "import cv2\n",
    "sys.path.append('cython_hw/')\n",
    "import lfit_cython\n",
    "from tutils import *\n",
    "from bokeh.plotting import figure,output_file,show\n",
    "from bokeh.layouts import gridplot"
   ]
  },
  {
   "cell_type": "code",
   "execution_count": null,
   "metadata": {},
   "outputs": [],
   "source": [
    "#target_folder='/Users/Jaiyam/Dropbox/New Beads Videos/20190724 5min try3/'\n",
    "target_folder='/Volumes/Users/Public/Sandhulab Data/Taisuke/20190809 control/'\n",
    "all_files_for_analysis=extract_videos_for_processing(target_folder,extract_template=True)\n",
    "#extract_temp_from_folder(target_folder+'pictures/')"
   ]
  },
  {
   "cell_type": "code",
   "execution_count": null,
   "metadata": {},
   "outputs": [],
   "source": [
    "all_files_for_analysis=['/Volumes/Users/Public/Sandhulab Data/Taisuke/20190808 good/tracking/08082019_141300/1m/08082019_141300_1m.mov',\n",
    " '/Volumes/Users/Public/Sandhulab Data/Taisuke/20190808 good/tracking/08082019_141300/2m/08082019_141300_2m.mov',\n",
    " '/Volumes/Users/Public/Sandhulab Data/Taisuke/20190808 good/tracking/08082019_141300/3m/08082019_141300_3m.mov',\n",
    " '/Volumes/Users/Public/Sandhulab Data/Taisuke/20190808 good/tracking/08082019_142051/1m/08082019_142051_1m.mov',\n",
    " '/Volumes/Users/Public/Sandhulab Data/Taisuke/20190808 good/tracking/08082019_142051/2m/08082019_142051_2m.mov',\n",
    " '/Volumes/Users/Public/Sandhulab Data/Taisuke/20190808 good/tracking/08082019_142051/3m/08082019_142051_3m.mov']"
   ]
  },
  {
   "cell_type": "code",
   "execution_count": null,
   "metadata": {},
   "outputs": [],
   "source": [
    "pp_list=[]\n",
    "ffa=[]\n",
    "for f in all_files_for_analysis:\n",
    "    os.system(\"say 'Please select the dimensions of video'\")\n",
    "    fname=f #target_folder+f\n",
    "    newname,pp_list=crop_and_trim(fname,pp_list)\n",
    "    ffa.append(newname)\n",
    "os.system(\"say 'Done'\")"
   ]
  },
  {
   "cell_type": "code",
   "execution_count": null,
   "metadata": {},
   "outputs": [],
   "source": [
    "#infile='/Users/Jaiyam/Dropbox/New Beads Videos/20190419 gravity/control.mov'\n",
    "#outfile='/Users/Jaiyam/Dropbox/New Beads Videos/20190419 gravity/tracking/control/1m/control_1m.mov'\n",
    "#crop_video(infile,outfile,46,56)\n",
    "#extract_template_frames(all_files_for_analysis[1])"
   ]
  },
  {
   "cell_type": "code",
   "execution_count": null,
   "metadata": {},
   "outputs": [],
   "source": [
    "for idx,fname in enumerate(ffa):\n",
    "    template_file=target_folder+'temp1.jpg' #fname[:fname.rfind('/')+1]\n",
    "    threshold=0.80\n",
    "    try:\n",
    "        track_video(fname,template_file,threshold)\n",
    "        print('Video {}/{} finished tracking'.format(idx+1,len(all_files_for_analysis)))\n",
    "    except Exception, e:\n",
    "        print(str(e))\n",
    "    print('\\nDone')\n",
    "os.system(\"say 'Done'\")"
   ]
  },
  {
   "cell_type": "markdown",
   "metadata": {},
   "source": [
    "# Post analysis of stopped beads with easy criterion"
   ]
  },
  {
   "cell_type": "code",
   "execution_count": null,
   "metadata": {},
   "outputs": [],
   "source": [
    "ffa=['/Volumes/Users/Public/Sandhulab Data/Taisuke/20190808 good/tracking/08082019_141300/1m/tracking/08082019_141300_1m.mov',\n",
    " '/Volumes/Users/Public/Sandhulab Data/Taisuke/20190808 good/tracking/08082019_141300/2m/tracking/08082019_141300_2m.mov',\n",
    " '/Volumes/Users/Public/Sandhulab Data/Taisuke/20190808 good/tracking/08082019_141300/3m/tracking/08082019_141300_3m.mov',\n",
    " '/Volumes/Users/Public/Sandhulab Data/Taisuke/20190808 good/tracking/08082019_142051/1m/tracking/08082019_142051_1m.mov',\n",
    " '/Volumes/Users/Public/Sandhulab Data/Taisuke/20190808 good/tracking/08082019_142051/2m/tracking/08082019_142051_2m.mov',\n",
    " '/Volumes/Users/Public/Sandhulab Data/Taisuke/20190808 good/tracking/08082019_142051/3m/tracking/08082019_142051_3m.mov']"
   ]
  },
  {
   "cell_type": "code",
   "execution_count": null,
   "metadata": {},
   "outputs": [],
   "source": [
    "target_folder='/Users/Jaiyam/Dropbox/New Beads Videos/20190318 ALL/exp1/'\n",
    "fname=target_folder+'tracking/exp1_100nM/1m/exp1_100nM_1m.mov'\n",
    "txtfile=fname[:fname.rfind('.')]+'_data.txt'\n",
    "total_frames=240\n",
    "bead_radius=3\n",
    "tracked_objs=[]\n",
    "tracked_objs=load_beads(txtfile)\n",
    "last_frame_of_video=get_last_frame(fname)\n",
    "highlighted_easy,num_stopped_easy,stopped_idxs_easy=highlight_stopped_beads(last_frame_of_video,tracked_objs,total_frames,bead_radius,std_threshold=1.0,strict=False)\n",
    "cv2.imwrite(fname[:fname.rfind('.')+1]+'_{}_stopped_beads_easy.jpg'.format(num_stopped_easy),highlighted_easy)\n",
    "stoppedtxt_easy=txtfile[:txtfile.rfind('.')]+'_stopped_easy.txt'\n",
    "save_beads(stoppedtxt_easy,[tracked_objs[idx] for idx in stopped_idxs_easy])\n",
    "print('Total beads tracked= {}'.format(len(tracked_objs)))\n",
    "if num_stopped_easy>0:\n",
    "    text2csv(stoppedtxt_easy)"
   ]
  },
  {
   "cell_type": "markdown",
   "metadata": {},
   "source": [
    "## Post analysis of beads stopped in sensing area"
   ]
  },
  {
   "cell_type": "code",
   "execution_count": null,
   "metadata": {},
   "outputs": [],
   "source": [
    "all_files_for_analysis=['/Users/Jaiyam/Dropbox/New Beads Videos/20190702 long/tracking/100nM/1m/100nM_1m.mov',\n",
    " '/Users/Jaiyam/Dropbox/New Beads Videos/20190702 long/tracking/100nM/2m/100nM_2m.mov',\n",
    " '/Users/Jaiyam/Dropbox/New Beads Videos/20190702 long/tracking/100nM/3m/100nM_3m.mov',\n",
    " '/Users/Jaiyam/Dropbox/New Beads Videos/20190702 long/tracking/100nM/4m/100nM_4m.mov',\n",
    " '/Users/Jaiyam/Dropbox/New Beads Videos/20190702 long/tracking/100nM/5m/100nM_5m.mov']"
   ]
  },
  {
   "cell_type": "code",
   "execution_count": null,
   "metadata": {},
   "outputs": [],
   "source": [
    "#target_folder='/Users/Jaiyam/Dropbox/New Beads Videos/20190328 30mA 250G/'\n",
    "#fname=target_folder+'tracking/control no NHS biotin on surface/1m/control no NHS biotin on surface_1m.mov'\n",
    "oldres=None\n",
    "failed=[]\n",
    "succeeded=[]\n",
    "for fname in all_files_for_analysis:\n",
    "    txtfile=fname[:fname.rfind('.')]+'_data.txt'\n",
    "    total_frames=240\n",
    "    bead_radius=3\n",
    "    tracked_objs=[]\n",
    "    tracked_objs=load_beads(txtfile)\n",
    "    debug=True\n",
    "    try:\n",
    "        highlighted_sa,num_stopped_sa,num_in_sa,oldres=find_beads_in_sensing_area(fname,tracked_objs,total_frames, bead_radius,strict=True,debug=debug,oldres=oldres)\n",
    "        cv2.imwrite(fname[:fname.rfind('.')+1]+'_{}_stopped_beads_sa.jpg'.format(num_stopped_sa),highlighted_sa)\n",
    "        stoppedtxt_sa=txtfile[:txtfile.rfind('.')]+'_stopped_sa.txt'\n",
    "        #save_beads(stoppedtxt_sa,[tracked_objs[idx] for idx in stopped_idxs_sa])\n",
    "        print('Total beads in sensing area= {}'.format(num_in_sa))\n",
    "        with open(stoppedtxt_sa,'w') as f:\n",
    "            msg='Number of beads in sensing area={}\\n Number of beads stopped={}\\n Percentage of beads stopped= {:.3f}\\n'.\\\n",
    "            format(num_in_sa,num_stopped_sa,num_stopped_sa*100.0/num_in_sa)\n",
    "            f.write(msg)\n",
    "        succeeded.append(fname)\n",
    "    except Exception, e:\n",
    "        print('Error while analyzing file: {}'.format(fname))\n",
    "        print(str(e))\n",
    "        failed.append(fname)\n",
    "\n",
    "    if len(succeeded)>0 and len(failed)>0:\n",
    "        all_files_for_analysis.extend(failed) #modifying something while iterating over it. for shame!\n",
    "        failed=[]"
   ]
  },
  {
   "cell_type": "markdown",
   "metadata": {},
   "source": [
    "## Make graphs of bead paths"
   ]
  },
  {
   "cell_type": "code",
   "execution_count": null,
   "metadata": {},
   "outputs": [],
   "source": [
    "target_folder='/Users/Jaiyam/Dropbox/New Beads Videos/20190710 tem/'\n",
    "fname=target_folder+'tracking/20190705_121016-6ml/video.mov'\n",
    "txtfile=fname[:fname.rfind('.')]+'_data.txt'\n",
    "total_frames=35*15 #240\n",
    "bead_radius=6 #3\n",
    "tracked_objs=[]\n",
    "tracked_objs=load_beads(txtfile)\n",
    "good_beads=[62,4,25]#,14,47,2,3,59,25 #62,4\n",
    "axis='y'\n",
    "fps=15.0 #24.0\n",
    "plot_pos_freq(tracked_objs,good_beads,fname[:fname.rfind('.')]+axis+'_pos.html',fs=fps,coord=axis)\n",
    "last_frame=get_last_frame(fname)\n",
    "cv2.imwrite(fname[:fname.rfind('.')]+'GBP.jpg',draw_full_paths_of_these_beads(last_frame,good_beads,tracked_objs))"
   ]
  },
  {
   "cell_type": "code",
   "execution_count": null,
   "metadata": {},
   "outputs": [],
   "source": [
    "last_frame_of_video=get_last_frame(fname)\n",
    "highlighted,num_stopped,stopped_idxs=highlight_stopped_beads(last_frame_of_video,tracked_objs,total_frames,bead_radius,std_threshold=2.0)\n",
    "cv2.imwrite(fname[:fname.rfind('.')+1]+'_{}_stopped_beads.jpg'.format(num_stopped),highlighted)\n",
    "save_beads(stoppedtxt,[tracked_objs[idx] for idx in stopped_idxs])\n",
    "if num_stopped>0:\n",
    "    text2csv(stoppedtxt)\n",
    "with open(fname[:fname.rfind('/')+1]+'correspondence.txt','w') as f:\n",
    "    f.write(str([b for b in enumerate(stopped_idxs)]))"
   ]
  },
  {
   "cell_type": "code",
   "execution_count": null,
   "metadata": {},
   "outputs": [],
   "source": [
    "last_frame_of_video=get_last_frame(fname)\n",
    "highlighted,num_stopped,stopped_idxs=highlight_stopped_beads(last_frame_of_video,tracked_objs,total_frames,bead_radius,std_threshold=2.0,end=144)\n",
    "cv2.imwrite(fname[:fname.rfind('.')+1]+'_{}_initial_stopped_beads.jpg'.format(num_stopped),highlighted)\n",
    "# save_beads(stoppedtxt,[tracked_objs[idx] for idx in stopped_idxs])\n",
    "# if num_stopped>0:\n",
    "#     text2csv(stoppedtxt)\n",
    "# with open(fname[:fname.rfind('/')+1]+'correspondence.txt','w') as f:\n",
    "#     f.write(str([b for b in enumerate(stopped_idxs)]))"
   ]
  },
  {
   "cell_type": "code",
   "execution_count": null,
   "metadata": {},
   "outputs": [],
   "source": [
    "time_dict={idx: obj.tracked_frame_indices for idx,obj in enumerate(tracked_objs)}"
   ]
  },
  {
   "cell_type": "code",
   "execution_count": null,
   "metadata": {},
   "outputs": [],
   "source": [
    "with open(fname[:fname.rfind('/')+1]+'frame_indices.txt','w') as f:\n",
    "    f.write(str(time_dict))"
   ]
  },
  {
   "cell_type": "code",
   "execution_count": null,
   "metadata": {},
   "outputs": [],
   "source": [
    "p=figure()\n",
    "print(sum([b.is_oscillating for b in tracked_objs]))\n",
    "good_beads=[] #[264,342,810,828,218,336,646]\n",
    "colors=['red','green','blue','black','orange','firebrick','fuchsia','indigo','magenta']\n",
    "num=0\n",
    "for idx,b in enumerate(tracked_objs):\n",
    "    if b.is_oscillating:\n",
    "        b.show_fft(p,'y',color=colors[num],display=False)\n",
    "        num+=1\n",
    "        good_beads.append(idx)\n",
    "    else:\n",
    "        pass\n",
    "        #print('{} is not oscillating'.format(b))\n",
    "    if num==9:\n",
    "        break\n",
    "    \n",
    "show(p)"
   ]
  },
  {
   "cell_type": "code",
   "execution_count": null,
   "metadata": {},
   "outputs": [],
   "source": []
  },
  {
   "cell_type": "code",
   "execution_count": null,
   "metadata": {},
   "outputs": [],
   "source": []
  }
 ],
 "metadata": {
  "kernelspec": {
   "display_name": "Python 3",
   "language": "python",
   "name": "python3"
  },
  "language_info": {
   "codemirror_mode": {
    "name": "ipython",
    "version": 3
   },
   "file_extension": ".py",
   "mimetype": "text/x-python",
   "name": "python",
   "nbconvert_exporter": "python",
   "pygments_lexer": "ipython3",
   "version": "3.7.1"
  }
 },
 "nbformat": 4,
 "nbformat_minor": 2
}
