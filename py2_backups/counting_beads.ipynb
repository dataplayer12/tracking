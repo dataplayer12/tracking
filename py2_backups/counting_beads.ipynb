{
 "cells": [
  {
   "cell_type": "code",
   "execution_count": 15,
   "metadata": {
    "collapsed": true
   },
   "outputs": [],
   "source": [
    "import numpy as np\n",
    "import os, sys\n",
    "import cv2\n",
    "sys.path.append('cython_hw/')\n",
    "import lfit_cython\n",
    "from tutils import *\n",
    "from bokeh.plotting import figure,output_file,show\n",
    "from bokeh.layouts import gridplot\n",
    "from bokeh.models import Legend, Span"
   ]
  },
  {
   "cell_type": "code",
   "execution_count": 2,
   "metadata": {
    "collapsed": true
   },
   "outputs": [],
   "source": [
    "target_file='/Users/Jaiyam/Dropbox/New Beads Videos/20190613 long/100gauss/expt.mov'\n",
    "target_folder=target_file[:target_file.rfind('/')+1]"
   ]
  },
  {
   "cell_type": "code",
   "execution_count": 2,
   "metadata": {
    "collapsed": true
   },
   "outputs": [],
   "source": [
    "frame_numbers=[idx*24 for idx in range(0,21*60,60)]\n",
    "frame_numbers[0]=288\n",
    "extract_frames(target_file,frame_numbers)"
   ]
  },
  {
   "cell_type": "code",
   "execution_count": 3,
   "metadata": {
    "scrolled": false
   },
   "outputs": [
    {
     "name": "stdout",
     "output_type": "stream",
     "text": [
      "/Users/Jaiyam/Dropbox/New Beads Videos/20190613 long/100gauss/expt/frame0.jpg\n",
      "(2160, 3840, 3)\n",
      "(6, 6)\n",
      "Number of stopped beads=3340\n",
      "/Users/Jaiyam/Dropbox/New Beads Videos/20190613 long/100gauss/expt/frame1.jpg\n",
      "(2160, 3840, 3)\n",
      "(6, 6)\n",
      "Number of stopped beads=3579\n",
      "/Users/Jaiyam/Dropbox/New Beads Videos/20190613 long/100gauss/expt/frame10.jpg\n",
      "(2160, 3840, 3)\n",
      "(6, 6)\n",
      "Number of stopped beads=3447\n",
      "/Users/Jaiyam/Dropbox/New Beads Videos/20190613 long/100gauss/expt/frame11.jpg\n",
      "(2160, 3840, 3)\n",
      "(6, 6)\n",
      "Number of stopped beads=3545\n",
      "/Users/Jaiyam/Dropbox/New Beads Videos/20190613 long/100gauss/expt/frame12.jpg\n",
      "(2160, 3840, 3)\n",
      "(6, 6)\n",
      "Number of stopped beads=3617\n",
      "/Users/Jaiyam/Dropbox/New Beads Videos/20190613 long/100gauss/expt/frame13.jpg\n",
      "(2160, 3840, 3)\n",
      "(6, 6)\n",
      "Number of stopped beads=3649\n",
      "/Users/Jaiyam/Dropbox/New Beads Videos/20190613 long/100gauss/expt/frame14.jpg\n",
      "(2160, 3840, 3)\n",
      "(6, 6)\n",
      "Number of stopped beads=3589\n",
      "/Users/Jaiyam/Dropbox/New Beads Videos/20190613 long/100gauss/expt/frame15.jpg\n",
      "(2160, 3840, 3)\n",
      "(6, 6)\n",
      "Number of stopped beads=3370\n",
      "/Users/Jaiyam/Dropbox/New Beads Videos/20190613 long/100gauss/expt/frame16.jpg\n",
      "(2160, 3840, 3)\n",
      "(6, 6)\n",
      "Number of stopped beads=3453\n",
      "/Users/Jaiyam/Dropbox/New Beads Videos/20190613 long/100gauss/expt/frame17.jpg\n",
      "(2160, 3840, 3)\n",
      "(6, 6)\n",
      "Number of stopped beads=3497\n",
      "/Users/Jaiyam/Dropbox/New Beads Videos/20190613 long/100gauss/expt/frame18.jpg\n",
      "(2160, 3840, 3)\n",
      "(6, 6)\n",
      "Number of stopped beads=3398\n",
      "/Users/Jaiyam/Dropbox/New Beads Videos/20190613 long/100gauss/expt/frame19.jpg\n",
      "(2160, 3840, 3)\n",
      "(6, 6)\n",
      "Number of stopped beads=3390\n",
      "/Users/Jaiyam/Dropbox/New Beads Videos/20190613 long/100gauss/expt/frame2.jpg\n",
      "(2160, 3840, 3)\n",
      "(6, 6)\n",
      "Number of stopped beads=3991\n",
      "/Users/Jaiyam/Dropbox/New Beads Videos/20190613 long/100gauss/expt/frame20.jpg\n",
      "(2160, 3840, 3)\n",
      "(6, 6)\n",
      "Number of stopped beads=3533\n",
      "/Users/Jaiyam/Dropbox/New Beads Videos/20190613 long/100gauss/expt/frame3.jpg\n",
      "(2160, 3840, 3)\n",
      "(6, 6)\n",
      "Number of stopped beads=4138\n",
      "/Users/Jaiyam/Dropbox/New Beads Videos/20190613 long/100gauss/expt/frame4.jpg\n",
      "(2160, 3840, 3)\n",
      "(6, 6)\n",
      "Number of stopped beads=3310\n",
      "/Users/Jaiyam/Dropbox/New Beads Videos/20190613 long/100gauss/expt/frame5.jpg\n",
      "(2160, 3840, 3)\n",
      "(6, 6)\n",
      "Number of stopped beads=3314\n",
      "/Users/Jaiyam/Dropbox/New Beads Videos/20190613 long/100gauss/expt/frame6.jpg\n",
      "(2160, 3840, 3)\n",
      "(6, 6)\n",
      "Number of stopped beads=3420\n",
      "/Users/Jaiyam/Dropbox/New Beads Videos/20190613 long/100gauss/expt/frame7.jpg\n",
      "(2160, 3840, 3)\n",
      "(6, 6)\n",
      "Number of stopped beads=3546\n",
      "/Users/Jaiyam/Dropbox/New Beads Videos/20190613 long/100gauss/expt/frame8.jpg\n",
      "(2160, 3840, 3)\n",
      "(6, 6)\n",
      "Number of stopped beads=3623\n",
      "/Users/Jaiyam/Dropbox/New Beads Videos/20190613 long/100gauss/expt/frame9.jpg\n",
      "(2160, 3840, 3)\n",
      "(6, 6)\n",
      "Number of stopped beads=3516\n"
     ]
    },
    {
     "data": {
      "text/plain": [
       "['/Users/Jaiyam/Dropbox/New Beads Videos/20190613 long/100gauss/expt/frame0.jpg',\n",
       " '/Users/Jaiyam/Dropbox/New Beads Videos/20190613 long/100gauss/expt/frame1.jpg',\n",
       " '/Users/Jaiyam/Dropbox/New Beads Videos/20190613 long/100gauss/expt/frame10.jpg',\n",
       " '/Users/Jaiyam/Dropbox/New Beads Videos/20190613 long/100gauss/expt/frame11.jpg',\n",
       " '/Users/Jaiyam/Dropbox/New Beads Videos/20190613 long/100gauss/expt/frame12.jpg',\n",
       " '/Users/Jaiyam/Dropbox/New Beads Videos/20190613 long/100gauss/expt/frame13.jpg',\n",
       " '/Users/Jaiyam/Dropbox/New Beads Videos/20190613 long/100gauss/expt/frame14.jpg',\n",
       " '/Users/Jaiyam/Dropbox/New Beads Videos/20190613 long/100gauss/expt/frame15.jpg',\n",
       " '/Users/Jaiyam/Dropbox/New Beads Videos/20190613 long/100gauss/expt/frame16.jpg',\n",
       " '/Users/Jaiyam/Dropbox/New Beads Videos/20190613 long/100gauss/expt/frame17.jpg',\n",
       " '/Users/Jaiyam/Dropbox/New Beads Videos/20190613 long/100gauss/expt/frame18.jpg',\n",
       " '/Users/Jaiyam/Dropbox/New Beads Videos/20190613 long/100gauss/expt/frame19.jpg',\n",
       " '/Users/Jaiyam/Dropbox/New Beads Videos/20190613 long/100gauss/expt/frame2.jpg',\n",
       " '/Users/Jaiyam/Dropbox/New Beads Videos/20190613 long/100gauss/expt/frame20.jpg',\n",
       " '/Users/Jaiyam/Dropbox/New Beads Videos/20190613 long/100gauss/expt/frame3.jpg',\n",
       " '/Users/Jaiyam/Dropbox/New Beads Videos/20190613 long/100gauss/expt/frame4.jpg',\n",
       " '/Users/Jaiyam/Dropbox/New Beads Videos/20190613 long/100gauss/expt/frame5.jpg',\n",
       " '/Users/Jaiyam/Dropbox/New Beads Videos/20190613 long/100gauss/expt/frame6.jpg',\n",
       " '/Users/Jaiyam/Dropbox/New Beads Videos/20190613 long/100gauss/expt/frame7.jpg',\n",
       " '/Users/Jaiyam/Dropbox/New Beads Videos/20190613 long/100gauss/expt/frame8.jpg',\n",
       " '/Users/Jaiyam/Dropbox/New Beads Videos/20190613 long/100gauss/expt/frame9.jpg']"
      ]
     },
     "execution_count": 3,
     "metadata": {},
     "output_type": "execute_result"
    }
   ],
   "source": [
    "analyze_pictures(target_folder);3420,"
   ]
  },
  {
   "cell_type": "code",
   "execution_count": 4,
   "metadata": {
    "collapsed": true
   },
   "outputs": [],
   "source": [
    "beads_on_substrate=[3340,3579,3991,4138,3310,3314,3420,3546,3623,3516,3447,3545,3617,3649,3589,3370,3453,3497,3398,3390,3533]"
   ]
  },
  {
   "cell_type": "code",
   "execution_count": 5,
   "metadata": {
    "collapsed": true
   },
   "outputs": [],
   "source": [
    "p=figure()\n",
    "output_file(target_folder+'graph.html')\n",
    "starts=np.array(range(len(beads_on_substrate)))\n",
    "p.quad(top=beads_on_substrate, bottom=0, left=starts, right=starts+0.5,fill_color=\"blue\", line_color=\"white\", alpha=0.9)\n",
    "p.xaxis.axis_label='Time (min)'\n",
    "p.yaxis.axis_label='Number of beads in image'\n",
    "#p.line(range(21),beads_on_substrate)\n",
    "show(p)"
   ]
  },
  {
   "cell_type": "code",
   "execution_count": 6,
   "metadata": {},
   "outputs": [
    {
     "data": {
      "text/plain": [
       "21"
      ]
     },
     "execution_count": 6,
     "metadata": {},
     "output_type": "execute_result"
    }
   ],
   "source": [
    "len(beads_on_substrate)"
   ]
  },
  {
   "cell_type": "code",
   "execution_count": 14,
   "metadata": {
    "collapsed": true
   },
   "outputs": [],
   "source": [
    "beads_0gauss=[3220,4352,5151,5953,6169,6764,7024,6568,7865,7816,7822,7459,7710,7793,7429,6675,6859,7730,7625,7309,7080]\n",
    "beads_25gauss=[3479,4274,5192,5849,6519,6323,7301,7718,7730,7788,7814,7836,7633,7635,7837,7815,7983,8128,7822]\n",
    "beads_50gauss=[3831,5235,5291,5405,6757,6943,6985,6587,6912,6584,6700,6812,6863,6716,6870,6893,6692,6799,6751,6415]\n",
    "beads_75gauss=[np.nan,3264,4804,5155,5401,5420,5306,5320,5338,4375,4494,4006,4457,4577,4981,4898,4925,4806,4967,4948]\n",
    "beads_100gauss=[3340,3579,3991,4138,3310,3314,3420,3546,3623,3516,3447,3545,3617,3649,3589,3370,3453,3497,3398,3390,3533]"
   ]
  },
  {
   "cell_type": "code",
   "execution_count": 4,
   "metadata": {
    "collapsed": true
   },
   "outputs": [],
   "source": [
    "def make_histogram(p,beadsnum,color,legend,width_start,width_end,normalize=False):\n",
    "    starts=np.array(range(len(beadsnum)))\n",
    "    if normalize:\n",
    "        beadsnum=[b/float(max(beadsnum)) for b in beadsnum]\n",
    "    p.quad(top=beadsnum, bottom=0, left=starts+width_start, right=starts+width_end,fill_color=color,legend=legend, alpha=0.9)"
   ]
  },
  {
   "cell_type": "code",
   "execution_count": 17,
   "metadata": {},
   "outputs": [
    {
     "name": "stderr",
     "output_type": "stream",
     "text": [
      "/Users/Jaiyam/Python3/anaconda/envs/cv33/lib/python2.7/site-packages/bokeh/util/deprecation.py:34: BokehDeprecationWarning: responsive parameter was deprecated in Bokeh 0.12.10 and will be removed, use sizing_mode='fixed' for responsive=False or sizing_mode='scale_width' for responsive=True instead.\n",
      "  warn(message)\n"
     ]
    }
   ],
   "source": [
    "p=figure(plot_width=800,plot_height=450,responsive=True)\n",
    "output_file(target_folder+'normed_graph.html')\n",
    "delta=3.0/20\n",
    "normalize=True\n",
    "if normalize:\n",
    "    beads_75gauss[0]=0\n",
    "    hline = Span(location=0.9, dimension='width', line_color='green',line_dash='dashed', line_width=2)\n",
    "    p.renderers.extend([hline])\n",
    "make_histogram(p,beads_0gauss,\"red\",'0 Gauss',0,delta,normalize)\n",
    "make_histogram(p,beads_25gauss,\"green\",'25 Gauss',delta,2*delta,normalize)\n",
    "make_histogram(p,beads_50gauss,\"blue\",'50 Gauss',2*delta,3*delta,normalize)\n",
    "make_histogram(p,beads_75gauss,\"black\",'75 Gauss',3*delta,4*delta,normalize)\n",
    "make_histogram(p,beads_100gauss,\"gray\",'100 Gauss',4*delta,5*delta,normalize)\n",
    "p.xaxis.axis_label='Time (min)'\n",
    "p.yaxis.axis_label='Number of beads in image'\n",
    "p.legend.click_policy='hide'\n",
    "p.legend.location='bottom_right'\n",
    "#p.line(range(21),beads_on_substrate)\n",
    "show(p)"
   ]
  },
  {
   "cell_type": "code",
   "execution_count": null,
   "metadata": {
    "collapsed": true
   },
   "outputs": [],
   "source": [
    "(beads_on_substrate[4]-beads_on_substrate[1])/3"
   ]
  },
  {
   "cell_type": "code",
   "execution_count": 22,
   "metadata": {},
   "outputs": [
    {
     "data": {
      "text/plain": [
       "4138"
      ]
     },
     "execution_count": 22,
     "metadata": {},
     "output_type": "execute_result"
    }
   ],
   "source": [
    "max(beads_100gauss)"
   ]
  },
  {
   "cell_type": "code",
   "execution_count": null,
   "metadata": {
    "collapsed": true
   },
   "outputs": [],
   "source": []
  },
  {
   "cell_type": "code",
   "execution_count": null,
   "metadata": {
    "collapsed": true
   },
   "outputs": [],
   "source": []
  },
  {
   "cell_type": "code",
   "execution_count": null,
   "metadata": {
    "collapsed": true
   },
   "outputs": [],
   "source": []
  }
 ],
 "metadata": {
  "kernelspec": {
   "display_name": "Python 2",
   "language": "python",
   "name": "python2"
  },
  "language_info": {
   "codemirror_mode": {
    "name": "ipython",
    "version": 2
   },
   "file_extension": ".py",
   "mimetype": "text/x-python",
   "name": "python",
   "nbconvert_exporter": "python",
   "pygments_lexer": "ipython2",
   "version": "2.7.13"
  }
 },
 "nbformat": 4,
 "nbformat_minor": 2
}
