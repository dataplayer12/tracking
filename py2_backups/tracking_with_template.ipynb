{
 "cells": [
  {
   "cell_type": "code",
   "execution_count": null,
   "metadata": {
    "collapsed": true
   },
   "outputs": [],
   "source": [
    "import numpy as np\n",
    "import os, sys\n",
    "import cv2\n",
    "sys.path.append('cython_hw/')\n",
    "import lfit_cython\n",
    "from tutils import *\n",
    "from bokeh.plotting import figure,output_file,show\n",
    "from bokeh.layouts import gridplot"
   ]
  },
  {
   "cell_type": "code",
   "execution_count": null,
   "metadata": {
    "collapsed": true
   },
   "outputs": [],
   "source": [
    "#target_folder='/Users/Jaiyam/Dropbox/New Beads Videos/20190724 5min try3/'\n",
    "target_folder='/Volumes/Users/Public/Sandhulab Data/Taisuke/20190809 control/'\n",
    "all_files_for_analysis=extract_videos_for_processing(target_folder,extract_template=True)\n",
    "#extract_temp_from_folder(target_folder+'pictures/')"
   ]
  },
  {
   "cell_type": "code",
   "execution_count": null,
   "metadata": {},
   "outputs": [],
   "source": [
    "all_files_for_analysis=['/Volumes/Users/Public/Sandhulab Data/Taisuke/20190808 good/tracking/08082019_141300/1m/08082019_141300_1m.mov',\n",
    " '/Volumes/Users/Public/Sandhulab Data/Taisuke/20190808 good/tracking/08082019_141300/2m/08082019_141300_2m.mov',\n",
    " '/Volumes/Users/Public/Sandhulab Data/Taisuke/20190808 good/tracking/08082019_141300/3m/08082019_141300_3m.mov',\n",
    " '/Volumes/Users/Public/Sandhulab Data/Taisuke/20190808 good/tracking/08082019_142051/1m/08082019_142051_1m.mov',\n",
    " '/Volumes/Users/Public/Sandhulab Data/Taisuke/20190808 good/tracking/08082019_142051/2m/08082019_142051_2m.mov',\n",
    " '/Volumes/Users/Public/Sandhulab Data/Taisuke/20190808 good/tracking/08082019_142051/3m/08082019_142051_3m.mov']"
   ]
  },
  {
   "cell_type": "code",
   "execution_count": null,
   "metadata": {},
   "outputs": [],
   "source": [
    "pp_list=[]\n",
    "ffa=[]\n",
    "for f in all_files_for_analysis:\n",
    "    os.system(\"say 'Please select the dimensions of video'\")\n",
    "    fname=f #target_folder+f\n",
    "    newname,pp_list=crop_and_trim(fname,pp_list)\n",
    "    ffa.append(newname)\n",
    "os.system(\"say 'Done'\")"
   ]
  },
  {
   "cell_type": "code",
   "execution_count": null,
   "metadata": {},
   "outputs": [],
   "source": [
    "#infile='/Users/Jaiyam/Dropbox/New Beads Videos/20190419 gravity/control.mov'\n",
    "#outfile='/Users/Jaiyam/Dropbox/New Beads Videos/20190419 gravity/tracking/control/1m/control_1m.mov'\n",
    "#crop_video(infile,outfile,46,56)\n",
    "#extract_template_frames(all_files_for_analysis[1])"
   ]
  },
  {
   "cell_type": "code",
   "execution_count": null,
   "metadata": {},
   "outputs": [],
   "source": [
    "for idx,fname in enumerate(ffa):\n",
    "    template_file=target_folder+'temp1.jpg' #fname[:fname.rfind('/')+1]\n",
    "    threshold=0.80\n",
    "    try:\n",
    "        track_video(fname,template_file,threshold)\n",
    "        print('Video {}/{} finished tracking'.format(idx+1,len(all_files_for_analysis)))\n",
    "    except Exception, e:\n",
    "        print(str(e))\n",
    "    print('\\nDone')\n",
    "os.system(\"say 'Done'\")"
   ]
  },
  {
   "cell_type": "markdown",
   "metadata": {},
   "source": [
    "# Post analysis of stopped beads with easy criterion"
   ]
  },
  {
   "cell_type": "code",
   "execution_count": null,
   "metadata": {},
   "outputs": [],
   "source": [
    "ffa=['/Volumes/Users/Public/Sandhulab Data/Taisuke/20190808 good/tracking/08082019_141300/1m/tracking/08082019_141300_1m.mov',\n",
    " '/Volumes/Users/Public/Sandhulab Data/Taisuke/20190808 good/tracking/08082019_141300/2m/tracking/08082019_141300_2m.mov',\n",
    " '/Volumes/Users/Public/Sandhulab Data/Taisuke/20190808 good/tracking/08082019_141300/3m/tracking/08082019_141300_3m.mov',\n",
    " '/Volumes/Users/Public/Sandhulab Data/Taisuke/20190808 good/tracking/08082019_142051/1m/tracking/08082019_142051_1m.mov',\n",
    " '/Volumes/Users/Public/Sandhulab Data/Taisuke/20190808 good/tracking/08082019_142051/2m/tracking/08082019_142051_2m.mov',\n",
    " '/Volumes/Users/Public/Sandhulab Data/Taisuke/20190808 good/tracking/08082019_142051/3m/tracking/08082019_142051_3m.mov']"
   ]
  },
  {
   "cell_type": "code",
   "execution_count": null,
   "metadata": {},
   "outputs": [],
   "source": [
    "target_folder='/Users/Jaiyam/Dropbox/New Beads Videos/20190318 ALL/exp1/'\n",
    "fname=target_folder+'tracking/exp1_100nM/1m/exp1_100nM_1m.mov'\n",
    "txtfile=fname[:fname.rfind('.')]+'_data.txt'\n",
    "total_frames=240\n",
    "bead_radius=3\n",
    "tracked_objs=[]\n",
    "tracked_objs=load_beads(txtfile)\n",
    "last_frame_of_video=get_last_frame(fname)\n",
    "highlighted_easy,num_stopped_easy,stopped_idxs_easy=highlight_stopped_beads(last_frame_of_video,tracked_objs,total_frames,bead_radius,std_threshold=1.0,strict=False)\n",
    "cv2.imwrite(fname[:fname.rfind('.')+1]+'_{}_stopped_beads_easy.jpg'.format(num_stopped_easy),highlighted_easy)\n",
    "stoppedtxt_easy=txtfile[:txtfile.rfind('.')]+'_stopped_easy.txt'\n",
    "save_beads(stoppedtxt_easy,[tracked_objs[idx] for idx in stopped_idxs_easy])\n",
    "print('Total beads tracked= {}'.format(len(tracked_objs)))\n",
    "if num_stopped_easy>0:\n",
    "    text2csv(stoppedtxt_easy)"
   ]
  },
  {
   "cell_type": "markdown",
   "metadata": {},
   "source": [
    "## Post analysis of beads stopped in sensing area"
   ]
  },
  {
   "cell_type": "code",
   "execution_count": null,
   "metadata": {
    "collapsed": true
   },
   "outputs": [],
   "source": [
    "all_files_for_analysis=['/Users/Jaiyam/Dropbox/New Beads Videos/20190702 long/tracking/100nM/1m/100nM_1m.mov',\n",
    " '/Users/Jaiyam/Dropbox/New Beads Videos/20190702 long/tracking/100nM/2m/100nM_2m.mov',\n",
    " '/Users/Jaiyam/Dropbox/New Beads Videos/20190702 long/tracking/100nM/3m/100nM_3m.mov',\n",
    " '/Users/Jaiyam/Dropbox/New Beads Videos/20190702 long/tracking/100nM/4m/100nM_4m.mov',\n",
    " '/Users/Jaiyam/Dropbox/New Beads Videos/20190702 long/tracking/100nM/5m/100nM_5m.mov']"
   ]
  },
  {
   "cell_type": "code",
   "execution_count": null,
   "metadata": {
    "scrolled": false
   },
   "outputs": [],
   "source": [
    "#target_folder='/Users/Jaiyam/Dropbox/New Beads Videos/20190328 30mA 250G/'\n",
    "#fname=target_folder+'tracking/control no NHS biotin on surface/1m/control no NHS biotin on surface_1m.mov'\n",
    "oldres=None\n",
    "failed=[]\n",
    "succeeded=[]\n",
    "for fname in all_files_for_analysis:\n",
    "    txtfile=fname[:fname.rfind('.')]+'_data.txt'\n",
    "    total_frames=240\n",
    "    bead_radius=3\n",
    "    tracked_objs=[]\n",
    "    tracked_objs=load_beads(txtfile)\n",
    "    debug=True\n",
    "    try:\n",
    "        highlighted_sa,num_stopped_sa,num_in_sa,oldres=find_beads_in_sensing_area(fname,tracked_objs,total_frames, bead_radius,strict=True,debug=debug,oldres=oldres)\n",
    "        cv2.imwrite(fname[:fname.rfind('.')+1]+'_{}_stopped_beads_sa.jpg'.format(num_stopped_sa),highlighted_sa)\n",
    "        stoppedtxt_sa=txtfile[:txtfile.rfind('.')]+'_stopped_sa.txt'\n",
    "        #save_beads(stoppedtxt_sa,[tracked_objs[idx] for idx in stopped_idxs_sa])\n",
    "        print('Total beads in sensing area= {}'.format(num_in_sa))\n",
    "        with open(stoppedtxt_sa,'w') as f:\n",
    "            msg='Number of beads in sensing area={}\\n Number of beads stopped={}\\n Percentage of beads stopped= {:.3f}\\n'.\\\n",
    "            format(num_in_sa,num_stopped_sa,num_stopped_sa*100.0/num_in_sa)\n",
    "            f.write(msg)\n",
    "        succeeded.append(fname)\n",
    "    except Exception, e:\n",
    "        print('Error while analyzing file: {}'.format(fname))\n",
    "        print(str(e))\n",
    "        failed.append(fname)\n",
    "\n",
    "    if len(succeeded)>0 and len(failed)>0:\n",
    "        all_files_for_analysis.extend(failed) #modifying something while iterating over it. for shame!\n",
    "        failed=[]"
   ]
  },
  {
   "cell_type": "markdown",
   "metadata": {},
   "source": [
    "## Make graphs of bead paths"
   ]
  },
  {
   "cell_type": "code",
   "execution_count": null,
   "metadata": {
    "collapsed": true
   },
   "outputs": [],
   "source": [
    "target_folder='/Users/Jaiyam/Dropbox/New Beads Videos/20190710 tem/'\n",
    "fname=target_folder+'tracking/20190705_121016-6ml/video.mov'\n",
    "txtfile=fname[:fname.rfind('.')]+'_data.txt'\n",
    "total_frames=35*15 #240\n",
    "bead_radius=6 #3\n",
    "tracked_objs=[]\n",
    "tracked_objs=load_beads(txtfile)\n",
    "good_beads=[62,4,25]#,14,47,2,3,59,25 #62,4\n",
    "axis='y'\n",
    "fps=15.0 #24.0\n",
    "plot_pos_freq(tracked_objs,good_beads,fname[:fname.rfind('.')]+axis+'_pos.html',fs=fps,coord=axis)\n",
    "last_frame=get_last_frame(fname)\n",
    "cv2.imwrite(fname[:fname.rfind('.')]+'GBP.jpg',draw_full_paths_of_these_beads(last_frame,good_beads,tracked_objs))"
   ]
  },
  {
   "cell_type": "code",
   "execution_count": null,
   "metadata": {
    "collapsed": true
   },
   "outputs": [],
   "source": [
    "len(tracked_objs)"
   ]
  },
  {
   "cell_type": "code",
   "execution_count": null,
   "metadata": {
    "collapsed": true
   },
   "outputs": [],
   "source": []
  },
  {
   "cell_type": "code",
   "execution_count": null,
   "metadata": {
    "collapsed": true
   },
   "outputs": [],
   "source": []
  },
  {
   "cell_type": "code",
   "execution_count": null,
   "metadata": {
    "collapsed": true
   },
   "outputs": [],
   "source": [
    "last_frame_of_video=get_last_frame(fname)\n",
    "highlighted,num_stopped,stopped_idxs=highlight_stopped_beads(last_frame_of_video,tracked_objs,total_frames,bead_radius,std_threshold=2.0)\n",
    "cv2.imwrite(fname[:fname.rfind('.')+1]+'_{}_stopped_beads.jpg'.format(num_stopped),highlighted)\n",
    "save_beads(stoppedtxt,[tracked_objs[idx] for idx in stopped_idxs])\n",
    "if num_stopped>0:\n",
    "    text2csv(stoppedtxt)\n",
    "with open(fname[:fname.rfind('/')+1]+'correspondence.txt','w') as f:\n",
    "    f.write(str([b for b in enumerate(stopped_idxs)]))"
   ]
  },
  {
   "cell_type": "code",
   "execution_count": null,
   "metadata": {
    "collapsed": true
   },
   "outputs": [],
   "source": [
    "last_frame_of_video=get_last_frame(fname)\n",
    "highlighted,num_stopped,stopped_idxs=highlight_stopped_beads(last_frame_of_video,tracked_objs,total_frames,bead_radius,std_threshold=2.0,end=144)\n",
    "cv2.imwrite(fname[:fname.rfind('.')+1]+'_{}_initial_stopped_beads.jpg'.format(num_stopped),highlighted)\n",
    "# save_beads(stoppedtxt,[tracked_objs[idx] for idx in stopped_idxs])\n",
    "# if num_stopped>0:\n",
    "#     text2csv(stoppedtxt)\n",
    "# with open(fname[:fname.rfind('/')+1]+'correspondence.txt','w') as f:\n",
    "#     f.write(str([b for b in enumerate(stopped_idxs)]))"
   ]
  },
  {
   "cell_type": "code",
   "execution_count": null,
   "metadata": {
    "collapsed": true
   },
   "outputs": [],
   "source": [
    "len(tracked_objs)"
   ]
  },
  {
   "cell_type": "code",
   "execution_count": null,
   "metadata": {
    "collapsed": true
   },
   "outputs": [],
   "source": [
    "time_dict={idx: obj.tracked_frame_indices for idx,obj in enumerate(tracked_objs)}"
   ]
  },
  {
   "cell_type": "code",
   "execution_count": null,
   "metadata": {
    "collapsed": true
   },
   "outputs": [],
   "source": [
    "with open(fname[:fname.rfind('/')+1]+'frame_indices.txt','w') as f:\n",
    "    f.write(str(time_dict))"
   ]
  },
  {
   "cell_type": "code",
   "execution_count": null,
   "metadata": {
    "collapsed": true
   },
   "outputs": [],
   "source": [
    "len(tracked_objs)"
   ]
  },
  {
   "cell_type": "code",
   "execution_count": null,
   "metadata": {
    "collapsed": true
   },
   "outputs": [],
   "source": [
    "len(tracked_objs[0].tracked_frame_indices)"
   ]
  },
  {
   "cell_type": "code",
   "execution_count": null,
   "metadata": {
    "collapsed": true
   },
   "outputs": [],
   "source": [
    "fname='/Users/Jaiyam/Dropbox/New Beads Videos/'"
   ]
  },
  {
   "cell_type": "code",
   "execution_count": null,
   "metadata": {
    "collapsed": true
   },
   "outputs": [],
   "source": [
    "p=figure()\n",
    "print(sum([b.is_oscillating for b in tracked_objs]))\n",
    "good_beads=[] #[264,342,810,828,218,336,646]\n",
    "colors=['red','green','blue','black','orange','firebrick','fuchsia','indigo','magenta']\n",
    "num=0\n",
    "for idx,b in enumerate(tracked_objs):\n",
    "    if b.is_oscillating:\n",
    "        b.show_fft(p,'y',color=colors[num],display=False)\n",
    "        num+=1\n",
    "        good_beads.append(idx)\n",
    "    else:\n",
    "        pass\n",
    "        #print('{} is not oscillating'.format(b))\n",
    "    if num==9:\n",
    "        break\n",
    "    \n",
    "show(p)"
   ]
  },
  {
   "cell_type": "code",
   "execution_count": null,
   "metadata": {
    "collapsed": true
   },
   "outputs": [],
   "source": [
    "blurred=cv2.GaussianBlur(frame,(5,5),3,3)"
   ]
  },
  {
   "cell_type": "code",
   "execution_count": null,
   "metadata": {
    "collapsed": true
   },
   "outputs": [],
   "source": [
    "cv2.imwrite('SAM/20181114/blurred.jpg',blurred)\n",
    "cv2.imwrite('SAM/20181114/frame.jpg',frame)"
   ]
  },
  {
   "cell_type": "code",
   "execution_count": null,
   "metadata": {
    "collapsed": true
   },
   "outputs": [],
   "source": [
    "#tracked_objs=load_beads('16coil/withmag2_centers.txt')\n",
    "#tracked_objs[509].num_frames_detected\n",
    "#tracked_objs[509].is_oscillating"
   ]
  },
  {
   "cell_type": "markdown",
   "metadata": {},
   "source": [
    "## 4k_external_trim_20_120 notes:\n",
    "#### threshold=0.75\n",
    "#### good beads are #s 166, 254, 13 (transition), [166,254,10,251,116,13]"
   ]
  },
  {
   "cell_type": "markdown",
   "metadata": {},
   "source": [
    "## 4k_onchip_trim_70_170 notes:\n",
    "#### threshold=0.75 template1\n",
    "#### good beads are #s 57, 31, 210, 719,178 [57,31,234,719]\n",
    "\n",
    "#### threshold=0.8 template2\n",
    "#### good beads are #s "
   ]
  },
  {
   "cell_type": "markdown",
   "metadata": {},
   "source": [
    "## Planar coils notes (good beads):\n",
    "#### 1Hz- 37,72,27;\n",
    "#### 2 Hz- 52,123,132"
   ]
  },
  {
   "cell_type": "markdown",
   "metadata": {},
   "source": [
    "## Onchip1um iPhone 4K notes\n",
    "\n",
    "#### threshold=0.8\n",
    "#### good beads are #s [325,433,84,545]"
   ]
  },
  {
   "cell_type": "markdown",
   "metadata": {},
   "source": [
    "## SAM 1uM 0.5% notes\n",
    "\n",
    "#### threshold=0.8\n",
    "#### good beads are #s [1069,800]"
   ]
  },
  {
   "cell_type": "markdown",
   "metadata": {},
   "source": [
    "## 16coil/nomag\n",
    "\n",
    "#### threshold=0.8\n",
    "#### good_beads=[49,59,65,27,25,261,173]"
   ]
  },
  {
   "cell_type": "markdown",
   "metadata": {},
   "source": [
    "### Write a frame"
   ]
  },
  {
   "cell_type": "code",
   "execution_count": null,
   "metadata": {
    "collapsed": true
   },
   "outputs": [],
   "source": [
    "video=cv2.VideoCapture(fname)\n",
    "count=0\n",
    "ret=True\n",
    "while ret:\n",
    "    count+=ret\n",
    "    ret,frame=video.read()\n",
    "    if(count==1):\n",
    "        cv2.imwrite(fname[:fname.rfind('/')+1]+'frame.jpg',frame)\n",
    "        ret=False\n",
    "video.release()"
   ]
  },
  {
   "cell_type": "code",
   "execution_count": null,
   "metadata": {
    "collapsed": true
   },
   "outputs": [],
   "source": [
    "draw_full_paths_of_these_beads(initial_frame, beads_ids, tracked_objs, color='green')"
   ]
  },
  {
   "cell_type": "code",
   "execution_count": null,
   "metadata": {
    "collapsed": true
   },
   "outputs": [],
   "source": [
    "folder=\"/Users/Jaiyam/Dropbox/New Beads Videos/20181203 SAM 15uM/tracking/expt3/\"\n",
    "clean_frame=get_last_frame(folder+\"20181203_sam_15uM_3.mov\")\n",
    "\n",
    "yes=[443,186,44,152]\n",
    "\n",
    "with open(folder+'20181203_sam_15uM_3_data.txt','r') as f:\n",
    "    trajectories=eval(f.read())\n",
    "\n",
    "tracked_objs=[]\n",
    "for _ in range(len(trajectories)):\n",
    "    tracked_objs.append(MovingObj((np.random.random(),np.random.random())))\n",
    "    \n",
    "for idx,obj in enumerate(tracked_objs):\n",
    "    obj.previous_centers=trajectories[idx][:]\n",
    "    \n",
    "red_paths=draw_full_paths_of_these_beads(clean_frame,yes,tracked_objs,color='green')\n",
    "#red_paths=draw_full_paths_of_these_beads(red_paths,nos,color='red')"
   ]
  },
  {
   "cell_type": "code",
   "execution_count": null,
   "metadata": {
    "collapsed": true
   },
   "outputs": [],
   "source": [
    "tracked_objs[0] is tracked_objs[1]"
   ]
  },
  {
   "cell_type": "code",
   "execution_count": null,
   "metadata": {
    "collapsed": true
   },
   "outputs": [],
   "source": [
    "cv2.imwrite(folder+'demo.jpg',red_paths)"
   ]
  },
  {
   "cell_type": "code",
   "execution_count": null,
   "metadata": {
    "collapsed": true
   },
   "outputs": [],
   "source": [
    "cv2.imwrite('16coil/paths_check.jpg',red_paths)"
   ]
  },
  {
   "cell_type": "code",
   "execution_count": null,
   "metadata": {
    "collapsed": true
   },
   "outputs": [],
   "source": [
    "cv2.imwrite('180nm_beads/last_frame.jpg',get_last_frame('180nm_beads/4coil_10x_mag_trim.mov'))"
   ]
  },
  {
   "cell_type": "code",
   "execution_count": null,
   "metadata": {
    "collapsed": true
   },
   "outputs": [],
   "source": [
    "#[obj.num_frames_detected for obj in tracked_objs]"
   ]
  },
  {
   "cell_type": "code",
   "execution_count": null,
   "metadata": {
    "collapsed": true
   },
   "outputs": [],
   "source": [
    "# struct moving_object\n",
    "# centers in last num_frames_in_history frames\n",
    "# is being tracked: boolean\n",
    "# kalman filter to predict motion if object is being tracked\n",
    "\n",
    "# maintain a list of all centers in previous num_frames_in_history frames\n",
    "# for each object being tracked, predict the position in this frame\n",
    "# for each center in this frame, check if the min distance to any predicted position is less than a threshold\n",
    "# if true insert this center to the list of obj's centers in last few frames. update kalman filter\n",
    "# if false, add to the list of objs not being tracked"
   ]
  },
  {
   "cell_type": "code",
   "execution_count": null,
   "metadata": {
    "collapsed": true
   },
   "outputs": [],
   "source": [
    "#[o.num_frames_detected for o in tracked_objs]"
   ]
  },
  {
   "cell_type": "code",
   "execution_count": null,
   "metadata": {
    "collapsed": true
   },
   "outputs": [],
   "source": []
  },
  {
   "cell_type": "code",
   "execution_count": null,
   "metadata": {
    "collapsed": true
   },
   "outputs": [],
   "source": []
  },
  {
   "cell_type": "code",
   "execution_count": null,
   "metadata": {
    "collapsed": true
   },
   "outputs": [],
   "source": [
    "[len(tracked_objs[idx].previous_centers) for idx in stopped_idxs]"
   ]
  },
  {
   "cell_type": "code",
   "execution_count": null,
   "metadata": {
    "collapsed": true
   },
   "outputs": [],
   "source": [
    "total_frames"
   ]
  },
  {
   "cell_type": "code",
   "execution_count": null,
   "metadata": {
    "collapsed": true
   },
   "outputs": [],
   "source": [
    "#good_beads=[166,254,10,251,116,13] <-- for external\n",
    "#good_beads=[57,31,234,719]\n",
    "#good_beads=[325,433,84,545] <-- for 1um beads\n",
    "#good_beads=[1069,800]\n",
    "#good_beads=[49,59,65,27,25,261,173] <-- 16coil/nomag\n",
    "#good_beads=[243,303,41,229]"
   ]
  },
  {
   "cell_type": "code",
   "execution_count": null,
   "metadata": {
    "collapsed": true
   },
   "outputs": [],
   "source": []
  },
  {
   "cell_type": "code",
   "execution_count": null,
   "metadata": {
    "collapsed": true
   },
   "outputs": [],
   "source": []
  },
  {
   "cell_type": "code",
   "execution_count": null,
   "metadata": {
    "collapsed": true
   },
   "outputs": [],
   "source": []
  },
  {
   "cell_type": "code",
   "execution_count": null,
   "metadata": {
    "collapsed": true
   },
   "outputs": [],
   "source": [
    "std_threshold=1.0\n",
    "xnoty=0\n",
    "ynotx=0\n",
    "xandy=0\n",
    "for idx,obj in enumerate(tracked_objs):\n",
    "    if len(obj.previous_centers)>=500:\n",
    "        cen_x,cen_y=zip(*obj.previous_centers[-100:])\n",
    "        if np.std(cen_x)<=std_threshold and np.std(cen_y)>std_threshold:\n",
    "            #print('x but not y: ',idx,np.std(cen_x),np.std(cen_y))\n",
    "            xnoty+=1\n",
    "        elif np.std(cen_x)>std_threshold and np.std(cen_y)<=std_threshold:\n",
    "            #print('y but not x: ',idx,np.std(cen_x),np.std(cen_y))\n",
    "            ynotx+=1\n",
    "        elif np.std(cen_x)<=std_threshold and np.std(cen_y)<=std_threshold:\n",
    "            #print('Both x and y: ',idx,np.std(cen_x),np.std(cen_y))\n",
    "            xandy+=1\n",
    "print('xnoty: ',xnoty,', ynotx: ',ynotx,', xandy: ',xandy)"
   ]
  },
  {
   "cell_type": "code",
   "execution_count": null,
   "metadata": {
    "collapsed": true
   },
   "outputs": [],
   "source": [
    "cv2.imwrite('SAM/20181114/last_frame.jpg',last_frame)"
   ]
  },
  {
   "cell_type": "code",
   "execution_count": null,
   "metadata": {
    "collapsed": true
   },
   "outputs": [],
   "source": [
    "len(stopped_idxs)"
   ]
  },
  {
   "cell_type": "code",
   "execution_count": null,
   "metadata": {
    "collapsed": true
   },
   "outputs": [],
   "source": [
    "fname='/Users/Jaiyam/Dropbox/New Beads Videos/20181226 Biotin simple/tracking/1uM/20181226_biotin_1uM.mov'\n",
    "txtfile=fname[:fname.rfind('/')+1]+'20181226_biotin_1uM_data.txt'\n",
    "stoppedtxt=fname[:fname.rfind('/')+1]+'correspondence.txt'\n",
    "with open(stoppedtxt,'r') as f:\n",
    "    stopped_idxs=zip(*eval(f.read()))[1]\n",
    "\n",
    "tracked_objs=load_beads(txtfile)\n",
    "fps=24.0"
   ]
  },
  {
   "cell_type": "code",
   "execution_count": null,
   "metadata": {
    "collapsed": true
   },
   "outputs": [],
   "source": [
    "txtfile=fname[:fname.rfind('.')]+'_data.txt'\n",
    "tracked_objs=load_beads(txtfile)"
   ]
  },
  {
   "cell_type": "code",
   "execution_count": null,
   "metadata": {
    "collapsed": true,
    "scrolled": false
   },
   "outputs": [],
   "source": [
    "good_beads=[12,19,23,24]#[2452,1426,2225]#,56]#,620]#56]\n",
    "axis='y'\n",
    "fps=24.0\n",
    "plot_pos_freq(good_beads,fname[:fname.rfind('.')]+axis+'_pos.html',fs=fps,coord=axis)\n",
    "last_frame=get_last_frame(fname)\n",
    "cv2.imwrite(fname[:fname.rfind('.')]+'GBP.jpg',draw_full_paths_of_these_beads(last_frame,good_beads,tracked_objs))\n",
    "#cv2.imwrite('good_beads_paths.jpg',writedistances(last_frame,[tracked_objs[b] for b in good_beads],float(count)/fps))"
   ]
  },
  {
   "cell_type": "code",
   "execution_count": null,
   "metadata": {
    "collapsed": true
   },
   "outputs": [],
   "source": [
    "stopped_ypositions=zip(*tracked_objs[19].previous_centers)[1]\n",
    "stopped_ypositions=np.array([y-stopped_ypositions[0] for y in stopped_ypositions])\n",
    "stopped_ypositions=np.gradient(stopped_ypositions)\n",
    "brownian_ypositions=zip(*tracked_objs[23].previous_centers)[1]\n",
    "brownian_ypositions=np.array([y-brownian_ypositions[0] for y in brownian_ypositions])\n",
    "brownian_ypositions=np.gradient(brownian_ypositions)"
   ]
  },
  {
   "cell_type": "code",
   "execution_count": null,
   "metadata": {
    "collapsed": true
   },
   "outputs": [],
   "source": [
    "s_bins,s_edges=np.histogram(stopped_ypositions,bins=20)\n",
    "b_bins,b_edges=np.histogram(brownian_ypositions,bins=20)"
   ]
  },
  {
   "cell_type": "code",
   "execution_count": null,
   "metadata": {
    "collapsed": true
   },
   "outputs": [],
   "source": [
    "import matplotlib.pyplot as plt\n",
    "%matplotlib inline"
   ]
  },
  {
   "cell_type": "code",
   "execution_count": null,
   "metadata": {
    "collapsed": true
   },
   "outputs": [],
   "source": [
    "#fig=plt.figure()"
   ]
  },
  {
   "cell_type": "code",
   "execution_count": null,
   "metadata": {
    "collapsed": true
   },
   "outputs": [],
   "source": [
    "#ax=fig.subplots(1,1)\n",
    "plt.plot(s_edges[:-1],s_bins,'b',b_edges[:-1],b_bins,'r')\n",
    "#plt.plot()\n",
    "plt.savefig('brownian_velocity.png')\n",
    "plt.show()"
   ]
  },
  {
   "cell_type": "code",
   "execution_count": null,
   "metadata": {
    "collapsed": true
   },
   "outputs": [],
   "source": [
    "with open(fname[:fname.rfind('/')+1]+'correspondence.txt','w') as f:\n",
    "    f.write(str([b for b in enumerate(stopped_idxs)]))"
   ]
  },
  {
   "cell_type": "code",
   "execution_count": null,
   "metadata": {
    "collapsed": true,
    "scrolled": true
   },
   "outputs": [],
   "source": [
    "with open('16coil/withmag2_centers.txt','w') as f:\n",
    "    obj_dict={idx: obj.previous_centers for idx,obj in enumerate(tracked_objs)}\n",
    "    f.write(str(obj_dict))"
   ]
  },
  {
   "cell_type": "code",
   "execution_count": null,
   "metadata": {
    "collapsed": true
   },
   "outputs": [],
   "source": [
    "plt.plot([c[0]/6.0 for c in tracked_objs[1].previous_centers]) #37,72,27,58,20,14\n",
    "plt.show() #123,132"
   ]
  },
  {
   "cell_type": "code",
   "execution_count": null,
   "metadata": {
    "collapsed": true
   },
   "outputs": [],
   "source": [
    "def drawfft(array,fs=7.5):\n",
    "    n=len(array)\n",
    "    len_out=n//2 + 1\n",
    "    maxf=fs/2.0 if n%2==0 else fs*(n-1)/(2.0*n)\n",
    "    frequencies=maxf*np.arange(len_out)/len_out\n",
    "    ys=np.abs(np.fft.rfft(array))\n",
    "    #ys[1:]*=2\n",
    "    plt.plot(frequencies,np.log10(ys))\n",
    "    plt.xlabel='Frequency (Hz)'\n",
    "    plt.ylabel='Amplitude (A.U.)'\n",
    "    plt.show()\n",
    "    return (frequencies,np.log10(ys))"
   ]
  },
  {
   "cell_type": "code",
   "execution_count": null,
   "metadata": {
    "collapsed": true
   },
   "outputs": [],
   "source": [
    "frequencies,amplitude=drawfft([c[0] for c in tracked_objs[0].previous_centers])"
   ]
  },
  {
   "cell_type": "code",
   "execution_count": null,
   "metadata": {
    "collapsed": true
   },
   "outputs": [],
   "source": [
    "import matplotlib.pyplot as plt\n",
    "def make_histogram(objs,prop='num_frames_detected'):\n",
    "    array=np.array([getattr(o,prop) for o in objs if getattr(o,prop)>=5])\n",
    "    hist,edges=np.histogram(array,bins=20)\n",
    "    plt.plot(edges[:-1],hist)\n",
    "    plt.show()"
   ]
  },
  {
   "cell_type": "code",
   "execution_count": null,
   "metadata": {
    "collapsed": true
   },
   "outputs": [],
   "source": [
    "make_histogram(tracked_objs)"
   ]
  },
  {
   "cell_type": "code",
   "execution_count": null,
   "metadata": {
    "collapsed": true
   },
   "outputs": [],
   "source": [
    "tracker = cv2.TrackerMIL_create()\n",
    "\n",
    "# Read video\n",
    "video = cv2.VideoCapture(\"short copy (Converted).mov\")\n",
    "\n",
    "# Exit if video not opened.\n",
    "if not video.isOpened():\n",
    "    print \"Could not open video\"\n",
    "    sys.exit()\n",
    "\n",
    "# Read first frame.\n",
    "ok, frame = video.read()\n",
    "if not ok:\n",
    "    print 'Cannot read video file'\n",
    "    sys.exit()\n",
    "\n",
    "# Define an initial bounding box\n",
    "bbox = (287, 23, 86, 320)\n",
    "\n",
    "# Uncomment the line below to select a different bounding box\n",
    "bbox = cv2.selectROI(frame, False)\n",
    "\n",
    "# Initialize tracker with first frame and bounding box\n",
    "ok = tracker.init(frame, bbox)\n",
    "\n",
    "while True:\n",
    "    # Read a new frame\n",
    "    ok, frame = video.read()\n",
    "    if not ok:\n",
    "        break\n",
    "\n",
    "    # Update tracker\n",
    "    ok, bbox = tracker.update(frame)\n",
    "\n",
    "    # Draw bounding box\n",
    "    if ok:\n",
    "        p1 = (int(bbox[0]), int(bbox[1]))\n",
    "        p2 = (int(bbox[0] + bbox[2]), int(bbox[1] + bbox[3]))\n",
    "        cv2.rectangle(frame, p1, p2, (0,0,255))\n",
    "\n",
    "    # Display result\n",
    "    #cv2.imshow(\"Tracking\", frame)\n",
    "    videoWriter.write(frame)\n",
    "\n",
    "    # Exit if ESC pressed\n",
    "    k = cv2.waitKey(1) & 0xff\n",
    "    if k == 27 : break\n",
    "\n",
    "videoWriter.release()"
   ]
  },
  {
   "cell_type": "code",
   "execution_count": null,
   "metadata": {
    "collapsed": true
   },
   "outputs": [],
   "source": [
    "ret,frame=video.read()\n",
    "gray=cv2.cvtColor(frame,cv2.COLOR_BGR2GRAY)\n",
    "ret,thresh=cv2.threshold(gray,0,255,cv2.THRESH_BINARY+cv2.THRESH_OTSU)\n",
    "\n",
    "for c in contours:\n",
    "    #find bounding box co-ordinates\n",
    "    (x,y),radius=cv2.minEnclosingCircle(c)\n",
    "    #cast to integers\n",
    "    center=(int(x),int(y))\n",
    "    radius=int(radius)\n",
    "    #draw the circle\n",
    "    img=cv2.circle(frame,center,radius,(0,255,0),2)\n",
    "    \n",
    "    #find minimum area\n",
    "    rect=cv2.minAreaRect(c)\n",
    "    #calculate co-ordinates of minimum area rectangle\n",
    "    box=cv2.boxPoints(rect)\n",
    "    #normalize co-ordinates to integers\n",
    "    box=np.int0(box)\n",
    "    #cv2.drawContours(frame,[box],-1,(0,0,255),3)\n",
    "\n",
    "#cv2.drawContours(frame,contours,-1,(255,0,0),1)\n",
    "plt.imshow(frame)"
   ]
  },
  {
   "cell_type": "code",
   "execution_count": null,
   "metadata": {
    "collapsed": true
   },
   "outputs": [],
   "source": []
  },
  {
   "cell_type": "code",
   "execution_count": null,
   "metadata": {
    "collapsed": true
   },
   "outputs": [],
   "source": []
  }
 ],
 "metadata": {
  "kernelspec": {
   "display_name": "Python 2",
   "language": "python",
   "name": "python2"
  },
  "language_info": {
   "codemirror_mode": {
    "name": "ipython",
    "version": 2
   },
   "file_extension": ".py",
   "mimetype": "text/x-python",
   "name": "python",
   "nbconvert_exporter": "python",
   "pygments_lexer": "ipython2",
   "version": "2.7.13"
  }
 },
 "nbformat": 4,
 "nbformat_minor": 2
}
