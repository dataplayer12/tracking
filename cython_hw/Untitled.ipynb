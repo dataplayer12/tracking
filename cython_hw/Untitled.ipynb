{
 "cells": [
  {
   "cell_type": "code",
   "execution_count": 1,
   "metadata": {
    "collapsed": true
   },
   "outputs": [],
   "source": [
    "import numpy as np\n",
    "import lfit_cython\n",
    "import lfit_naive\n",
    "import sys\n",
    "sys.path.append('../')\n",
    "import tutils\n",
    "from bokeh.plotting import figure, output_notebook, show"
   ]
  },
  {
   "cell_type": "code",
   "execution_count": null,
   "metadata": {
    "collapsed": true
   },
   "outputs": [],
   "source": [
    "size=1000\n",
    "x=np.arange(size).astype(np.float32)\n",
    "y=2*np.arange(size).astype(np.float32)+np.random.random(size).astype(np.float32)"
   ]
  },
  {
   "cell_type": "code",
   "execution_count": null,
   "metadata": {
    "collapsed": true
   },
   "outputs": [],
   "source": [
    "lfit_cython.fit_linear(x,y)"
   ]
  },
  {
   "cell_type": "code",
   "execution_count": null,
   "metadata": {
    "collapsed": true
   },
   "outputs": [],
   "source": [
    "%timeit -n100 -r10 lfit_cython.fit_linear(x,y)"
   ]
  },
  {
   "cell_type": "code",
   "execution_count": null,
   "metadata": {
    "collapsed": true
   },
   "outputs": [],
   "source": [
    "%timeit -n100 -r10 lfit_naive.fit_linear(x,y)"
   ]
  },
  {
   "cell_type": "code",
   "execution_count": null,
   "metadata": {
    "collapsed": true
   },
   "outputs": [],
   "source": [
    "lfit_naive.fit_linear(x,y)"
   ]
  },
  {
   "cell_type": "code",
   "execution_count": null,
   "metadata": {
    "collapsed": true
   },
   "outputs": [],
   "source": [
    "%timeit -n10 -r3 lfit_cython.linear_ransac1D(x,y, 20, 0.3, 0.01,5)"
   ]
  },
  {
   "cell_type": "code",
   "execution_count": null,
   "metadata": {
    "collapsed": true
   },
   "outputs": [],
   "source": [
    "with open('withmag_centers.txt','r') as f:\n",
    "    positions=eval(f.read())"
   ]
  },
  {
   "cell_type": "code",
   "execution_count": null,
   "metadata": {
    "collapsed": true
   },
   "outputs": [],
   "source": [
    "xpos=[c[0]-positions[10][0][0] for c in positions[10]]"
   ]
  },
  {
   "cell_type": "code",
   "execution_count": null,
   "metadata": {},
   "outputs": [],
   "source": [
    "n=len(xpos)\n",
    "len_out=n//2 + 1\n",
    "maxf=24/2.0 if n%2==0 else 24*(n-1)/(2.0*n)\n",
    "fft_frequencies=np.log10(maxf*np.arange(len_out)/len_out)\n",
    "x_fft=np.fft.rfft(np.array(xpos))"
   ]
  },
  {
   "cell_type": "code",
   "execution_count": null,
   "metadata": {
    "collapsed": true
   },
   "outputs": [],
   "source": [
    "x_amp=np.abs(x_fft)\n",
    "x_fft=np.log10(x_amp)/np.log10(x_amp.max())"
   ]
  },
  {
   "cell_type": "code",
   "execution_count": null,
   "metadata": {},
   "outputs": [],
   "source": [
    "output_notebook()"
   ]
  },
  {
   "cell_type": "code",
   "execution_count": null,
   "metadata": {},
   "outputs": [],
   "source": [
    "p=figure()\n",
    "p.line(fft_frequencies,x_fft,color='red')\n",
    "#slope,intercept=lfit_cython.linear_ransac1D(fft_frequencies.astype(np.float32),x_fft.astype(np.float32),20,0.15,0.5,5)\n",
    "#p.line(fft_frequencies,intercept+slope*fft_frequencies)\n",
    "show(p)"
   ]
  },
  {
   "cell_type": "code",
   "execution_count": null,
   "metadata": {},
   "outputs": [],
   "source": [
    "%timeit -n10 -r3 lfit_cython.linear_ransac1D(fft_frequencies.astype(np.float32),x_fft.astype(np.float32),20,0.2,0.5,5)"
   ]
  },
  {
   "cell_type": "code",
   "execution_count": null,
   "metadata": {},
   "outputs": [],
   "source": [
    "slope"
   ]
  },
  {
   "cell_type": "code",
   "execution_count": null,
   "metadata": {
    "collapsed": true
   },
   "outputs": [],
   "source": [
    "bins,edges=np.histogram(fft_frequencies[1:],bins=50)"
   ]
  },
  {
   "cell_type": "code",
   "execution_count": null,
   "metadata": {
    "collapsed": true
   },
   "outputs": [],
   "source": [
    "p2=figure()\n",
    "p2.line(edges[:-1],bins)\n",
    "show(p2)"
   ]
  },
  {
   "cell_type": "code",
   "execution_count": null,
   "metadata": {
    "collapsed": true
   },
   "outputs": [],
   "source": [
    "lfit_cython.linear_ransac1D(fft_frequencies.astype(np.float32),x_fft.astype(np.float32),20,0.1,0.3,5)"
   ]
  },
  {
   "cell_type": "code",
   "execution_count": null,
   "metadata": {
    "collapsed": true
   },
   "outputs": [],
   "source": [
    "fft_frequencies.shape[0]"
   ]
  },
  {
   "cell_type": "code",
   "execution_count": 11,
   "metadata": {},
   "outputs": [],
   "source": [
    "mat1=np.random.random((100,100)).astype(np.float32)\n",
    "mat2=np.random.random((100,100)).astype(np.float32)"
   ]
  },
  {
   "cell_type": "code",
   "execution_count": 12,
   "metadata": {},
   "outputs": [
    {
     "name": "stdout",
     "output_type": "stream",
     "text": [
      "100 loops, best of 10: 7.66 ms per loop\n"
     ]
    }
   ],
   "source": [
    "%timeit -n 100 -r 10 tutils.computepairwise(mat1,mat2)"
   ]
  },
  {
   "cell_type": "code",
   "execution_count": 13,
   "metadata": {},
   "outputs": [
    {
     "name": "stdout",
     "output_type": "stream",
     "text": [
      "100 loops, best of 10: 7.76 ms per loop\n"
     ]
    }
   ],
   "source": [
    "%timeit -n 100 -r 10 lfit_cython.computepairwise(mat1,mat2)"
   ]
  },
  {
   "cell_type": "code",
   "execution_count": null,
   "metadata": {
    "collapsed": true
   },
   "outputs": [],
   "source": []
  }
 ],
 "metadata": {
  "kernelspec": {
   "display_name": "Python 2",
   "language": "python",
   "name": "python2"
  },
  "language_info": {
   "codemirror_mode": {
    "name": "ipython",
    "version": 2
   },
   "file_extension": ".py",
   "mimetype": "text/x-python",
   "name": "python",
   "nbconvert_exporter": "python",
   "pygments_lexer": "ipython2",
   "version": "2.7.13"
  }
 },
 "nbformat": 4,
 "nbformat_minor": 2
}
